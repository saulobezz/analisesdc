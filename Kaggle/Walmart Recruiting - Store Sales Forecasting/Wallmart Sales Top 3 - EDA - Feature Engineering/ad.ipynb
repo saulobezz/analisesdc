{
 "cells": [
  {
   "cell_type": "code",
   "execution_count": 2,
   "metadata": {},
   "outputs": [
    {
     "ename": "ImportError",
     "evalue": "cannot import name 'if_delegate_has_method' from 'sklearn.utils.metaestimators' (/home/ubnt/.local/lib/python3.12/site-packages/sklearn/utils/metaestimators.py)",
     "output_type": "error",
     "traceback": [
      "\u001b[31m---------------------------------------------------------------------------\u001b[39m",
      "\u001b[31mImportError\u001b[39m                               Traceback (most recent call last)",
      "\u001b[36mCell\u001b[39m\u001b[36m \u001b[39m\u001b[32mIn[2]\u001b[39m\u001b[32m, line 10\u001b[39m\n\u001b[32m      6\u001b[39m \u001b[38;5;28;01mimport\u001b[39;00m \u001b[34;01mplotly\u001b[39;00m\u001b[34;01m.\u001b[39;00m\u001b[34;01mfigure_factory\u001b[39;00m \u001b[38;5;28;01mas\u001b[39;00m \u001b[34;01mff\u001b[39;00m\n\u001b[32m      8\u001b[39m \u001b[38;5;28;01mfrom\u001b[39;00m \u001b[34;01msklearn\u001b[39;00m \u001b[38;5;28;01mimport\u001b[39;00m model_selection, metrics\n\u001b[32m---> \u001b[39m\u001b[32m10\u001b[39m \u001b[38;5;28;01mimport\u001b[39;00m \u001b[34;01meli5\u001b[39;00m\n\u001b[32m     12\u001b[39m \u001b[38;5;28;01mimport\u001b[39;00m \u001b[34;01mxgboost\u001b[39;00m \u001b[38;5;28;01mas\u001b[39;00m \u001b[34;01mxgb\u001b[39;00m\n\u001b[32m     13\u001b[39m \u001b[38;5;28;01mimport\u001b[39;00m \u001b[34;01mcatboost\u001b[39;00m \u001b[38;5;28;01mas\u001b[39;00m \u001b[34;01mcb\u001b[39;00m\n",
      "\u001b[36mFile \u001b[39m\u001b[32m~/.local/lib/python3.12/site-packages/eli5/__init__.py:13\u001b[39m\n\u001b[32m      6\u001b[39m \u001b[38;5;28;01mfrom\u001b[39;00m \u001b[34;01m.\u001b[39;00m\u001b[34;01mformatters\u001b[39;00m \u001b[38;5;28;01mimport\u001b[39;00m (\n\u001b[32m      7\u001b[39m     format_as_html,\n\u001b[32m      8\u001b[39m     format_html_styles,\n\u001b[32m      9\u001b[39m     format_as_text,\n\u001b[32m     10\u001b[39m     format_as_dict,\n\u001b[32m     11\u001b[39m )\n\u001b[32m     12\u001b[39m \u001b[38;5;28;01mfrom\u001b[39;00m \u001b[34;01m.\u001b[39;00m\u001b[34;01mexplain\u001b[39;00m \u001b[38;5;28;01mimport\u001b[39;00m explain_weights, explain_prediction\n\u001b[32m---> \u001b[39m\u001b[32m13\u001b[39m \u001b[38;5;28;01mfrom\u001b[39;00m \u001b[34;01m.\u001b[39;00m\u001b[34;01msklearn\u001b[39;00m \u001b[38;5;28;01mimport\u001b[39;00m explain_weights_sklearn, explain_prediction_sklearn\n\u001b[32m     14\u001b[39m \u001b[38;5;28;01mfrom\u001b[39;00m \u001b[34;01m.\u001b[39;00m\u001b[34;01mtransform\u001b[39;00m \u001b[38;5;28;01mimport\u001b[39;00m transform_feature_names\n\u001b[32m     17\u001b[39m \u001b[38;5;28;01mtry\u001b[39;00m:\n",
      "\u001b[36mFile \u001b[39m\u001b[32m~/.local/lib/python3.12/site-packages/eli5/sklearn/__init__.py:3\u001b[39m\n\u001b[32m      1\u001b[39m \u001b[38;5;66;03m# -*- coding: utf-8 -*-\u001b[39;00m\n\u001b[32m      2\u001b[39m \u001b[38;5;28;01mfrom\u001b[39;00m \u001b[34;01m__future__\u001b[39;00m \u001b[38;5;28;01mimport\u001b[39;00m absolute_import\n\u001b[32m----> \u001b[39m\u001b[32m3\u001b[39m \u001b[38;5;28;01mfrom\u001b[39;00m \u001b[34;01m.\u001b[39;00m\u001b[34;01mexplain_weights\u001b[39;00m \u001b[38;5;28;01mimport\u001b[39;00m (\n\u001b[32m      4\u001b[39m     explain_weights_sklearn,\n\u001b[32m      5\u001b[39m     explain_linear_classifier_weights,\n\u001b[32m      6\u001b[39m     explain_linear_regressor_weights,\n\u001b[32m      7\u001b[39m     explain_rf_feature_importance,\n\u001b[32m      8\u001b[39m     explain_decision_tree,\n\u001b[32m      9\u001b[39m )\n\u001b[32m     10\u001b[39m \u001b[38;5;28;01mfrom\u001b[39;00m \u001b[34;01m.\u001b[39;00m\u001b[34;01mexplain_prediction\u001b[39;00m \u001b[38;5;28;01mimport\u001b[39;00m (\n\u001b[32m     11\u001b[39m     explain_prediction_sklearn,\n\u001b[32m     12\u001b[39m     explain_prediction_linear_classifier,\n\u001b[32m     13\u001b[39m     explain_prediction_linear_regressor,\n\u001b[32m     14\u001b[39m )\n\u001b[32m     15\u001b[39m \u001b[38;5;28;01mfrom\u001b[39;00m \u001b[34;01m.\u001b[39;00m\u001b[34;01munhashing\u001b[39;00m \u001b[38;5;28;01mimport\u001b[39;00m (\n\u001b[32m     16\u001b[39m     InvertableHashingVectorizer,\n\u001b[32m     17\u001b[39m     FeatureUnhasher,\n\u001b[32m     18\u001b[39m     invert_hashing_and_fit,\n\u001b[32m     19\u001b[39m )\n",
      "\u001b[36mFile \u001b[39m\u001b[32m~/.local/lib/python3.12/site-packages/eli5/sklearn/explain_weights.py:78\u001b[39m\n\u001b[32m     73\u001b[39m \u001b[38;5;28;01mfrom\u001b[39;00m \u001b[34;01meli5\u001b[39;00m\u001b[34;01m.\u001b[39;00m\u001b[34;01mtransform\u001b[39;00m \u001b[38;5;28;01mimport\u001b[39;00m transform_feature_names\n\u001b[32m     74\u001b[39m \u001b[38;5;28;01mfrom\u001b[39;00m \u001b[34;01meli5\u001b[39;00m\u001b[34;01m.\u001b[39;00m\u001b[34;01m_feature_importances\u001b[39;00m \u001b[38;5;28;01mimport\u001b[39;00m (\n\u001b[32m     75\u001b[39m     get_feature_importances_filtered,\n\u001b[32m     76\u001b[39m     get_feature_importance_explanation,\n\u001b[32m     77\u001b[39m )\n\u001b[32m---> \u001b[39m\u001b[32m78\u001b[39m \u001b[38;5;28;01mfrom\u001b[39;00m \u001b[34;01m.\u001b[39;00m\u001b[34;01mpermutation_importance\u001b[39;00m \u001b[38;5;28;01mimport\u001b[39;00m PermutationImportance\n\u001b[32m     81\u001b[39m LINEAR_CAVEATS = \u001b[33m\"\"\"\u001b[39m\n\u001b[32m     82\u001b[39m \u001b[33mCaveats:\u001b[39m\n\u001b[32m     83\u001b[39m \u001b[33m1. Be careful with features which are not\u001b[39m\n\u001b[32m   (...)\u001b[39m\u001b[32m     90\u001b[39m \u001b[33m   classification result for most examples.\u001b[39m\n\u001b[32m     91\u001b[39m \u001b[33m\"\"\"\u001b[39m.lstrip()\n\u001b[32m     93\u001b[39m HASHING_CAVEATS = \u001b[33m\"\"\"\u001b[39m\n\u001b[32m     94\u001b[39m \u001b[33mFeature names are restored from their hashes; this is not 100\u001b[39m\u001b[33m%\u001b[39m\u001b[33m precise\u001b[39m\n\u001b[32m     95\u001b[39m \u001b[33mbecause collisions are possible. For known collisions possible feature names\u001b[39m\n\u001b[32m   (...)\u001b[39m\u001b[32m     99\u001b[39m \u001b[33mthe result is positive.\u001b[39m\n\u001b[32m    100\u001b[39m \u001b[33m\"\"\"\u001b[39m.lstrip()\n",
      "\u001b[36mFile \u001b[39m\u001b[32m~/.local/lib/python3.12/site-packages/eli5/sklearn/permutation_importance.py:7\u001b[39m\n\u001b[32m      5\u001b[39m \u001b[38;5;28;01mimport\u001b[39;00m \u001b[34;01mnumpy\u001b[39;00m \u001b[38;5;28;01mas\u001b[39;00m \u001b[34;01mnp\u001b[39;00m\n\u001b[32m      6\u001b[39m \u001b[38;5;28;01mfrom\u001b[39;00m \u001b[34;01msklearn\u001b[39;00m\u001b[34;01m.\u001b[39;00m\u001b[34;01mmodel_selection\u001b[39;00m \u001b[38;5;28;01mimport\u001b[39;00m check_cv\n\u001b[32m----> \u001b[39m\u001b[32m7\u001b[39m \u001b[38;5;28;01mfrom\u001b[39;00m \u001b[34;01msklearn\u001b[39;00m\u001b[34;01m.\u001b[39;00m\u001b[34;01mutils\u001b[39;00m\u001b[34;01m.\u001b[39;00m\u001b[34;01mmetaestimators\u001b[39;00m \u001b[38;5;28;01mimport\u001b[39;00m if_delegate_has_method\n\u001b[32m      8\u001b[39m \u001b[38;5;28;01mfrom\u001b[39;00m \u001b[34;01msklearn\u001b[39;00m\u001b[34;01m.\u001b[39;00m\u001b[34;01mutils\u001b[39;00m \u001b[38;5;28;01mimport\u001b[39;00m check_array, check_random_state\n\u001b[32m      9\u001b[39m \u001b[38;5;28;01mfrom\u001b[39;00m \u001b[34;01msklearn\u001b[39;00m\u001b[34;01m.\u001b[39;00m\u001b[34;01mbase\u001b[39;00m \u001b[38;5;28;01mimport\u001b[39;00m (\n\u001b[32m     10\u001b[39m     BaseEstimator,\n\u001b[32m     11\u001b[39m     MetaEstimatorMixin,\n\u001b[32m     12\u001b[39m     clone,\n\u001b[32m     13\u001b[39m     is_classifier\n\u001b[32m     14\u001b[39m )\n",
      "\u001b[31mImportError\u001b[39m: cannot import name 'if_delegate_has_method' from 'sklearn.utils.metaestimators' (/home/ubnt/.local/lib/python3.12/site-packages/sklearn/utils/metaestimators.py)"
     ]
    }
   ],
   "source": [
    "import pandas as pd\n",
    "import numpy as np\n",
    "\n",
    "import plotly.express as px\n",
    "import plotly.graph_objs as go\n",
    "import plotly.figure_factory as ff\n",
    "\n",
    "from sklearn import model_selection, metrics\n",
    "\n",
    "import eli5\n",
    "\n",
    "import xgboost as xgb\n",
    "import catboost as cb\n",
    "import lightgbm as lgb\n",
    "from sklearn import linear_model, ensemble\n",
    "from sklearn.experimental import enable_hist_gradient_boosting\n",
    "from sklearn.ensemble import HistGradientBoostingRegressor\n",
    "\n",
    "import warnings\n",
    "warnings.filterwarnings('ignore')"
   ]
  }
 ],
 "metadata": {
  "kernelspec": {
   "display_name": "Python 3",
   "language": "python",
   "name": "python3"
  },
  "language_info": {
   "codemirror_mode": {
    "name": "ipython",
    "version": 3
   },
   "file_extension": ".py",
   "mimetype": "text/x-python",
   "name": "python",
   "nbconvert_exporter": "python",
   "pygments_lexer": "ipython3",
   "version": "3.12.3"
  }
 },
 "nbformat": 4,
 "nbformat_minor": 2
}
